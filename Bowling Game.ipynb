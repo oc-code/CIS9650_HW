{
 "cells": [
  {
   "cell_type": "markdown",
   "id": "86efeba2",
   "metadata": {},
   "source": [
    "Bowling Game"
   ]
  },
  {
   "cell_type": "code",
   "execution_count": null,
   "id": "073b9bda",
   "metadata": {},
   "outputs": [],
   "source": [
    "import random\n",
    "gameList = []\n",
    "\n",
    "def ran(input_name,input_round):   #2 rolls per round function\n",
    "    player = open(\"bowlingGame.txt\",\"a\")\n",
    "    roll1 = random.randint(0,10)\n",
    "    if roll1 != 10:\n",
    "        roll2 = random.randint(0,10-roll1)\n",
    "    else:\n",
    "        roll2 = 0\n",
    "    print(input_name, roll1, roll2) \n",
    "    player.write(input_name+\"\\n\")       \n",
    "    player.write(str(roll1)+\"\\n\") \n",
    "    player.write(str(roll2)+\"\\n\")\n",
    "    player.close\n",
    "\n",
    "num = int(input(\"Please enter the number off players: \"))\n",
    "for i in range(num):\n",
    "    gameList.append(input(\"Please enter the name of the player\" + str(i+1) + \": \"))\n",
    "    \n",
    "for rounds in range(1,11): #10 rounds\n",
    "    print(\"Round\",str(rounds)+\":\")\n",
    "    for r in gameList:\n",
    "        ran(r,rounds)\n",
    "\n",
    "def lookUp(playerName):\n",
    "    read = open(\"bowlingGame.txt\",\"r\")\n",
    "    player_score = 0\n",
    "    line = read.readline().rstrip()\n",
    "    while line != \"\":\n",
    "        if line == playerName:\n",
    "            player_score += int(read.readline().rstrip()) \n",
    "            player_score += int(read.readline().rstrip())\n",
    "        line = read.readline().rstrip()\n",
    "    return player_score   \n",
    "    read.close\n",
    "\n",
    "for r in gameList:\n",
    "    print(r + '\\'s Total Score: '+str(lookUp(r)))"
   ]
  }
 ],
 "metadata": {
  "kernelspec": {
   "display_name": "Python 3",
   "language": "python",
   "name": "python3"
  },
  "language_info": {
   "codemirror_mode": {
    "name": "ipython",
    "version": 3
   },
   "file_extension": ".py",
   "mimetype": "text/x-python",
   "name": "python",
   "nbconvert_exporter": "python",
   "pygments_lexer": "ipython3",
   "version": "3.8.8"
  }
 },
 "nbformat": 4,
 "nbformat_minor": 5
}
