{
 "cells": [
  {
   "cell_type": "markdown",
   "id": "86efeba2",
   "metadata": {},
   "source": [
    "Bowling Game"
   ]
  },
  {
   "cell_type": "code",
   "execution_count": 19,
   "id": "073b9bda",
   "metadata": {},
   "outputs": [
    {
     "name": "stdout",
     "output_type": "stream",
     "text": [
      "Please enter the number off players: 3\n",
      "Please enter the name of the player1: Du\n",
      "Please enter the name of the player2: OC\n",
      "Please enter the name of the player3: Bao\n",
      "Round 1:\n",
      "Du 4 1\n",
      "OC 1 5\n",
      "Bao 0 9\n",
      "Round 2:\n",
      "Du 1 9\n",
      "OC 5 5\n",
      "Bao 1 8\n",
      "Round 3:\n",
      "Du 3 6\n",
      "OC 1 2\n",
      "Bao 3 4\n",
      "Round 4:\n",
      "Du 0 4\n",
      "OC 8 0\n",
      "Bao 2 0\n",
      "Round 5:\n",
      "Du 1 9\n",
      "OC 0 2\n",
      "Bao 1 2\n",
      "Round 6:\n",
      "Du 6 0\n",
      "OC 7 0\n",
      "Bao 5 0\n",
      "Round 7:\n",
      "Du 7 1\n",
      "OC 9 0\n",
      "Bao 6 1\n",
      "Round 8:\n",
      "Du 2 4\n",
      "OC 7 2\n",
      "Bao 6 4\n",
      "Round 9:\n",
      "Du 1 2\n",
      "OC 7 0\n",
      "Bao 2 3\n",
      "Round 10:\n",
      "Du 10 0\n",
      "OC 4 4\n",
      "Bao 10 0\n",
      "Du's Total Score: 71\n",
      "OC's Total Score: 69\n",
      "Bao's Total Score: 67\n"
     ]
    }
   ],
   "source": [
    "import random\n",
    "gameList = []\n",
    "\n",
    "def ran(input_name,input_round):   #2 rolls per round function\n",
    "    player = open(\"bowlingGame.txt\",\"a\")\n",
    "    roll1 = random.randint(0,10)\n",
    "    if roll1 != 10:\n",
    "        roll2 = random.randint(0,10-roll1)\n",
    "    else:\n",
    "        roll2 = 0\n",
    "    print(input_name, roll1, roll2) \n",
    "    player.write(input_name+\"\\n\")       \n",
    "    player.write(str(roll1)+\"\\n\") \n",
    "    player.write(str(roll2)+\"\\n\")\n",
    "    player.close\n",
    "\n",
    "num = int(input(\"Please enter the number off players: \"))\n",
    "for i in range(num):\n",
    "    gameList.append(input(\"Please enter the name of the player\" + str(i+1) + \": \"))\n",
    "    \n",
    "for rounds in range(1,11): #10 rounds\n",
    "    print(\"Round\",str(rounds)+\":\")\n",
    "    for r in gameList:\n",
    "        ran(r,rounds)\n",
    "\n",
    "def lookUp(playerName):\n",
    "    read = open(\"bowlingGame.txt\",\"r\")\n",
    "    player_score = 0\n",
    "    line = read.readline().rstrip()\n",
    "    while line != \"\":\n",
    "        if line == playerName:\n",
    "            player_score += int(read.readline().rstrip()) \n",
    "            player_score += int(read.readline().rstrip())\n",
    "        line = read.readline().rstrip()\n",
    "    return player_score   \n",
    "    read.close\n",
    "\n",
    "for r in gameList:\n",
    "    print(r + '\\'s Total Score: '+str(lookUp(r)))"
   ]
  }
 ],
 "metadata": {
  "kernelspec": {
   "display_name": "Python 3",
   "language": "python",
   "name": "python3"
  },
  "language_info": {
   "codemirror_mode": {
    "name": "ipython",
    "version": 3
   },
   "file_extension": ".py",
   "mimetype": "text/x-python",
   "name": "python",
   "nbconvert_exporter": "python",
   "pygments_lexer": "ipython3",
   "version": "3.8.8"
  }
 },
 "nbformat": 4,
 "nbformat_minor": 5
}
