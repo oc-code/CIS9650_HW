{
 "cells": [
  {
   "cell_type": "markdown",
   "id": "572bc494",
   "metadata": {},
   "source": [
    "Translator"
   ]
  },
  {
   "cell_type": "code",
   "execution_count": 1,
   "id": "de821f8f",
   "metadata": {},
   "outputs": [
    {
     "name": "stdout",
     "output_type": "stream",
     "text": [
      "Do you want to use the translator? (Y/N) y\n",
      "Would you like to search or add translations? (Search/Add) add\n",
      "Please enter a new English word/phrasesun\n",
      "Please enter the German translation: sonne\n",
      "Please enter the Spanish translation: sol\n",
      "Please enter the French translation: soleil\n",
      "Do you want to use the translator? (Y/N) y\n",
      "Would you like to search or add translations? (Search/Add) search\n",
      "Please enter an English word/phrase: sun\n",
      "['sonne', 'sol', 'soleil']\n",
      "Do you want to use the translator? (Y/N) y\n",
      "Would you like to search or add translations? (Search/Add) search\n",
      "Please enter an English word/phrase: good MornING\n",
      "['guten morgen', 'buenos dÃ\\xadas', 'bonjour']\n",
      "Do you want to use the translator? (Y/N) n\n"
     ]
    }
   ],
   "source": [
    "translator = {}\n",
    "def createTranslator():\n",
    "    line = language.readline().rstrip()\n",
    "    while line != \"\":\n",
    "        line2 = language.readline().rstrip()\n",
    "        translator[line] = [line2] \n",
    "        line = language.readline().rstrip()\n",
    "\n",
    "def addElement():\n",
    "    line = language.readline().rstrip()\n",
    "    while line != \"\":\n",
    "        line2 = language.readline().rstrip()\n",
    "        translator[line].append(line2)\n",
    "        line = language.readline().rstrip()  \n",
    "        \n",
    "language = open(\"german.txt\",\"r\")\n",
    "createTranslator()\n",
    "language.close        \n",
    "\n",
    "language = open(\"spanish.txt\",\"r\")\n",
    "addElement()\n",
    "language.close  \n",
    "\n",
    "language = open(\"french.txt\",\"r\")\n",
    "addElement()\n",
    "language.close  \n",
    "\n",
    "translator\n",
    "\n",
    "ans = \"y\"\n",
    "ans = str.lower(input(\"Do you want to use the translator? (Y/N) \"))\n",
    "\n",
    "while ans == \"y\":\n",
    "    types = str.lower(input(\"Would you like to search or add translations? (Search/Add) \"))\n",
    "    if types == \"search\":   #2.1\n",
    "        wordSearch = str.lower(input(\"Please enter an English word/phrase: \"))\n",
    "        if wordSearch in translator:\n",
    "            print(translator[wordSearch])\n",
    "        else:\n",
    "            print(\"Translations not found\")\n",
    "   #2.2\n",
    "    elif types == \"add\":   #2.2\n",
    "        word = str.lower(input(\"Please enter a new English word/phrase\"))\n",
    "        german = str.lower(input(\"Please enter the German translation: \"))\n",
    "        translator[word] = [german] \n",
    "        spanish = str.lower(input(\"Please enter the Spanish translation: \"))\n",
    "        translator[word].append(spanish)\n",
    "        french = str.lower(input(\"Please enter the French translation: \"))\n",
    "        translator[word].append(french)\n",
    "        file = open(\"german.txt\",\"a\")\n",
    "        file.write(word+\"\\n\")\n",
    "        file.write(german+\"\\n\")\n",
    "        file.close\n",
    "        file = open(\"spanish.txt\",\"a\")\n",
    "        file.write(word+\"\\n\")\n",
    "        file.write(spanish+\"\\n\")\n",
    "        file.close\n",
    "        file = open(\"french.txt\",\"a\")\n",
    "        file.write(word+\"\\n\")\n",
    "        file.write(french+\"\\n\")\n",
    "        file.close\n",
    "    else:\n",
    "        print(\"Invalid entry, please try again.\")        \n",
    "    \n",
    "    ans = str.lower(input(\"Do you want to use the translator? (Y/N) \"))"
   ]
  }
 ],
 "metadata": {
  "kernelspec": {
   "display_name": "Python 3",
   "language": "python",
   "name": "python3"
  },
  "language_info": {
   "codemirror_mode": {
    "name": "ipython",
    "version": 3
   },
   "file_extension": ".py",
   "mimetype": "text/x-python",
   "name": "python",
   "nbconvert_exporter": "python",
   "pygments_lexer": "ipython3",
   "version": "3.8.8"
  }
 },
 "nbformat": 4,
 "nbformat_minor": 5
}
